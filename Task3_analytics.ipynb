{
 "cells": [
  {
   "cell_type": "code",
   "execution_count": 25,
   "id": "47a60c54",
   "metadata": {},
   "outputs": [],
   "source": [
    "import pandas as pd\n",
    "import numpy as np\n",
    "from sklearn.linear_model import LinearRegression\n",
    "from sklearn.preprocessing import StandardScaler\n",
    "import matplotlib.pyplot as plt"
   ]
  },
  {
   "cell_type": "code",
   "execution_count": 13,
   "id": "b0adf319",
   "metadata": {},
   "outputs": [],
   "source": [
    "test = pd.read_csv(\"..\\\\Test Tesk_Internship\\\\Quantum internship\\\\internship_hidden_test.csv\")\n",
    "train = pd.read_csv('..\\\\Test Tesk_Internship\\\\Quantum internship\\\\internship_train.csv')"
   ]
  },
  {
   "cell_type": "code",
   "execution_count": 18,
   "id": "e03e280a",
   "metadata": {},
   "outputs": [
    {
     "data": {
      "text/html": [
       "<div>\n",
       "<style scoped>\n",
       "    .dataframe tbody tr th:only-of-type {\n",
       "        vertical-align: middle;\n",
       "    }\n",
       "\n",
       "    .dataframe tbody tr th {\n",
       "        vertical-align: top;\n",
       "    }\n",
       "\n",
       "    .dataframe thead th {\n",
       "        text-align: right;\n",
       "    }\n",
       "</style>\n",
       "<table border=\"1\" class=\"dataframe\">\n",
       "  <thead>\n",
       "    <tr style=\"text-align: right;\">\n",
       "      <th></th>\n",
       "      <th>0</th>\n",
       "      <th>1</th>\n",
       "      <th>2</th>\n",
       "      <th>3</th>\n",
       "      <th>4</th>\n",
       "      <th>5</th>\n",
       "      <th>6</th>\n",
       "      <th>7</th>\n",
       "      <th>8</th>\n",
       "      <th>9</th>\n",
       "      <th>...</th>\n",
       "      <th>43</th>\n",
       "      <th>44</th>\n",
       "      <th>45</th>\n",
       "      <th>46</th>\n",
       "      <th>47</th>\n",
       "      <th>48</th>\n",
       "      <th>49</th>\n",
       "      <th>50</th>\n",
       "      <th>51</th>\n",
       "      <th>52</th>\n",
       "    </tr>\n",
       "  </thead>\n",
       "  <tbody>\n",
       "    <tr>\n",
       "      <th>0</th>\n",
       "      <td>259</td>\n",
       "      <td>388</td>\n",
       "      <td>402</td>\n",
       "      <td>340</td>\n",
       "      <td>156</td>\n",
       "      <td>382</td>\n",
       "      <td>3.316625</td>\n",
       "      <td>0.218760</td>\n",
       "      <td>1</td>\n",
       "      <td>164</td>\n",
       "      <td>...</td>\n",
       "      <td>7.163474</td>\n",
       "      <td>10.227235</td>\n",
       "      <td>0.889111</td>\n",
       "      <td>9.190222</td>\n",
       "      <td>4.670908</td>\n",
       "      <td>0.931525</td>\n",
       "      <td>7.634177</td>\n",
       "      <td>0.158196</td>\n",
       "      <td>13.432551</td>\n",
       "      <td>2.511191</td>\n",
       "    </tr>\n",
       "    <tr>\n",
       "      <th>1</th>\n",
       "      <td>441</td>\n",
       "      <td>192</td>\n",
       "      <td>381</td>\n",
       "      <td>421</td>\n",
       "      <td>452</td>\n",
       "      <td>123</td>\n",
       "      <td>-8.888194</td>\n",
       "      <td>0.700228</td>\n",
       "      <td>0</td>\n",
       "      <td>349</td>\n",
       "      <td>...</td>\n",
       "      <td>10.619064</td>\n",
       "      <td>9.339161</td>\n",
       "      <td>4.221861</td>\n",
       "      <td>0.595563</td>\n",
       "      <td>13.865748</td>\n",
       "      <td>0.328453</td>\n",
       "      <td>11.507599</td>\n",
       "      <td>9.107966</td>\n",
       "      <td>1.302407</td>\n",
       "      <td>11.105604</td>\n",
       "    </tr>\n",
       "    <tr>\n",
       "      <th>2</th>\n",
       "      <td>83</td>\n",
       "      <td>129</td>\n",
       "      <td>107</td>\n",
       "      <td>156</td>\n",
       "      <td>247</td>\n",
       "      <td>191</td>\n",
       "      <td>2.645751</td>\n",
       "      <td>0.494556</td>\n",
       "      <td>1</td>\n",
       "      <td>297</td>\n",
       "      <td>...</td>\n",
       "      <td>1.819890</td>\n",
       "      <td>10.670237</td>\n",
       "      <td>10.350867</td>\n",
       "      <td>5.134417</td>\n",
       "      <td>5.898995</td>\n",
       "      <td>8.374986</td>\n",
       "      <td>4.638049</td>\n",
       "      <td>3.160023</td>\n",
       "      <td>2.243799</td>\n",
       "      <td>5.073030</td>\n",
       "    </tr>\n",
       "    <tr>\n",
       "      <th>3</th>\n",
       "      <td>183</td>\n",
       "      <td>438</td>\n",
       "      <td>191</td>\n",
       "      <td>116</td>\n",
       "      <td>491</td>\n",
       "      <td>403</td>\n",
       "      <td>-6.164414</td>\n",
       "      <td>0.511117</td>\n",
       "      <td>0</td>\n",
       "      <td>272</td>\n",
       "      <td>...</td>\n",
       "      <td>4.168135</td>\n",
       "      <td>12.782579</td>\n",
       "      <td>0.513072</td>\n",
       "      <td>0.321295</td>\n",
       "      <td>11.334062</td>\n",
       "      <td>11.735511</td>\n",
       "      <td>1.911520</td>\n",
       "      <td>8.365676</td>\n",
       "      <td>4.877288</td>\n",
       "      <td>11.601819</td>\n",
       "    </tr>\n",
       "    <tr>\n",
       "      <th>4</th>\n",
       "      <td>449</td>\n",
       "      <td>156</td>\n",
       "      <td>310</td>\n",
       "      <td>188</td>\n",
       "      <td>279</td>\n",
       "      <td>465</td>\n",
       "      <td>8.000000</td>\n",
       "      <td>0.756416</td>\n",
       "      <td>1</td>\n",
       "      <td>90</td>\n",
       "      <td>...</td>\n",
       "      <td>7.908122</td>\n",
       "      <td>1.140498</td>\n",
       "      <td>14.165074</td>\n",
       "      <td>7.688796</td>\n",
       "      <td>5.079241</td>\n",
       "      <td>8.152186</td>\n",
       "      <td>1.680403</td>\n",
       "      <td>13.215111</td>\n",
       "      <td>5.823109</td>\n",
       "      <td>1.038015</td>\n",
       "    </tr>\n",
       "  </tbody>\n",
       "</table>\n",
       "<p>5 rows × 53 columns</p>\n",
       "</div>"
      ],
      "text/plain": [
       "     0    1    2    3    4    5         6         7  8    9  ...         43  \\\n",
       "0  259  388  402  340  156  382  3.316625  0.218760  1  164  ...   7.163474   \n",
       "1  441  192  381  421  452  123 -8.888194  0.700228  0  349  ...  10.619064   \n",
       "2   83  129  107  156  247  191  2.645751  0.494556  1  297  ...   1.819890   \n",
       "3  183  438  191  116  491  403 -6.164414  0.511117  0  272  ...   4.168135   \n",
       "4  449  156  310  188  279  465  8.000000  0.756416  1   90  ...   7.908122   \n",
       "\n",
       "          44         45        46         47         48         49         50  \\\n",
       "0  10.227235   0.889111  9.190222   4.670908   0.931525   7.634177   0.158196   \n",
       "1   9.339161   4.221861  0.595563  13.865748   0.328453  11.507599   9.107966   \n",
       "2  10.670237  10.350867  5.134417   5.898995   8.374986   4.638049   3.160023   \n",
       "3  12.782579   0.513072  0.321295  11.334062  11.735511   1.911520   8.365676   \n",
       "4   1.140498  14.165074  7.688796   5.079241   8.152186   1.680403  13.215111   \n",
       "\n",
       "          51         52  \n",
       "0  13.432551   2.511191  \n",
       "1   1.302407  11.105604  \n",
       "2   2.243799   5.073030  \n",
       "3   4.877288  11.601819  \n",
       "4   5.823109   1.038015  \n",
       "\n",
       "[5 rows x 53 columns]"
      ]
     },
     "execution_count": 18,
     "metadata": {},
     "output_type": "execute_result"
    }
   ],
   "source": [
    "test.head()"
   ]
  },
  {
   "cell_type": "code",
   "execution_count": 17,
   "id": "a4790380",
   "metadata": {},
   "outputs": [
    {
     "data": {
      "text/html": [
       "<div>\n",
       "<style scoped>\n",
       "    .dataframe tbody tr th:only-of-type {\n",
       "        vertical-align: middle;\n",
       "    }\n",
       "\n",
       "    .dataframe tbody tr th {\n",
       "        vertical-align: top;\n",
       "    }\n",
       "\n",
       "    .dataframe thead th {\n",
       "        text-align: right;\n",
       "    }\n",
       "</style>\n",
       "<table border=\"1\" class=\"dataframe\">\n",
       "  <thead>\n",
       "    <tr style=\"text-align: right;\">\n",
       "      <th></th>\n",
       "      <th>0</th>\n",
       "      <th>1</th>\n",
       "      <th>2</th>\n",
       "      <th>3</th>\n",
       "      <th>4</th>\n",
       "      <th>5</th>\n",
       "      <th>6</th>\n",
       "      <th>7</th>\n",
       "      <th>8</th>\n",
       "      <th>9</th>\n",
       "      <th>...</th>\n",
       "      <th>44</th>\n",
       "      <th>45</th>\n",
       "      <th>46</th>\n",
       "      <th>47</th>\n",
       "      <th>48</th>\n",
       "      <th>49</th>\n",
       "      <th>50</th>\n",
       "      <th>51</th>\n",
       "      <th>52</th>\n",
       "      <th>target</th>\n",
       "    </tr>\n",
       "  </thead>\n",
       "  <tbody>\n",
       "    <tr>\n",
       "      <th>0</th>\n",
       "      <td>236</td>\n",
       "      <td>488</td>\n",
       "      <td>16</td>\n",
       "      <td>221</td>\n",
       "      <td>382</td>\n",
       "      <td>97</td>\n",
       "      <td>-4.472136</td>\n",
       "      <td>0.107472</td>\n",
       "      <td>0</td>\n",
       "      <td>132</td>\n",
       "      <td>...</td>\n",
       "      <td>13.340874</td>\n",
       "      <td>0.870542</td>\n",
       "      <td>1.962937</td>\n",
       "      <td>7.466666</td>\n",
       "      <td>11.547794</td>\n",
       "      <td>8.822916</td>\n",
       "      <td>9.046424</td>\n",
       "      <td>7.895535</td>\n",
       "      <td>11.010677</td>\n",
       "      <td>20.107472</td>\n",
       "    </tr>\n",
       "    <tr>\n",
       "      <th>1</th>\n",
       "      <td>386</td>\n",
       "      <td>206</td>\n",
       "      <td>357</td>\n",
       "      <td>232</td>\n",
       "      <td>1</td>\n",
       "      <td>198</td>\n",
       "      <td>7.810250</td>\n",
       "      <td>0.763713</td>\n",
       "      <td>1</td>\n",
       "      <td>143</td>\n",
       "      <td>...</td>\n",
       "      <td>12.484882</td>\n",
       "      <td>7.168680</td>\n",
       "      <td>2.885415</td>\n",
       "      <td>12.413973</td>\n",
       "      <td>10.260494</td>\n",
       "      <td>10.091351</td>\n",
       "      <td>9.270888</td>\n",
       "      <td>3.173994</td>\n",
       "      <td>13.921871</td>\n",
       "      <td>61.763713</td>\n",
       "    </tr>\n",
       "    <tr>\n",
       "      <th>2</th>\n",
       "      <td>429</td>\n",
       "      <td>49</td>\n",
       "      <td>481</td>\n",
       "      <td>111</td>\n",
       "      <td>111</td>\n",
       "      <td>146</td>\n",
       "      <td>8.602325</td>\n",
       "      <td>0.651162</td>\n",
       "      <td>1</td>\n",
       "      <td>430</td>\n",
       "      <td>...</td>\n",
       "      <td>14.030257</td>\n",
       "      <td>0.394970</td>\n",
       "      <td>8.160625</td>\n",
       "      <td>12.592059</td>\n",
       "      <td>8.937577</td>\n",
       "      <td>2.265191</td>\n",
       "      <td>11.255721</td>\n",
       "      <td>12.794841</td>\n",
       "      <td>12.080951</td>\n",
       "      <td>74.651162</td>\n",
       "    </tr>\n",
       "    <tr>\n",
       "      <th>3</th>\n",
       "      <td>414</td>\n",
       "      <td>350</td>\n",
       "      <td>481</td>\n",
       "      <td>370</td>\n",
       "      <td>208</td>\n",
       "      <td>158</td>\n",
       "      <td>8.306624</td>\n",
       "      <td>0.424645</td>\n",
       "      <td>1</td>\n",
       "      <td>340</td>\n",
       "      <td>...</td>\n",
       "      <td>2.789577</td>\n",
       "      <td>6.416708</td>\n",
       "      <td>10.549814</td>\n",
       "      <td>11.456437</td>\n",
       "      <td>6.468099</td>\n",
       "      <td>2.519049</td>\n",
       "      <td>0.258284</td>\n",
       "      <td>9.317696</td>\n",
       "      <td>5.383098</td>\n",
       "      <td>69.424645</td>\n",
       "    </tr>\n",
       "    <tr>\n",
       "      <th>4</th>\n",
       "      <td>318</td>\n",
       "      <td>359</td>\n",
       "      <td>20</td>\n",
       "      <td>218</td>\n",
       "      <td>317</td>\n",
       "      <td>301</td>\n",
       "      <td>8.124038</td>\n",
       "      <td>0.767304</td>\n",
       "      <td>1</td>\n",
       "      <td>212</td>\n",
       "      <td>...</td>\n",
       "      <td>1.886560</td>\n",
       "      <td>1.919999</td>\n",
       "      <td>2.268203</td>\n",
       "      <td>0.149421</td>\n",
       "      <td>4.105907</td>\n",
       "      <td>10.416291</td>\n",
       "      <td>6.816217</td>\n",
       "      <td>8.586960</td>\n",
       "      <td>4.512419</td>\n",
       "      <td>66.767304</td>\n",
       "    </tr>\n",
       "  </tbody>\n",
       "</table>\n",
       "<p>5 rows × 54 columns</p>\n",
       "</div>"
      ],
      "text/plain": [
       "     0    1    2    3    4    5         6         7  8    9  ...         44  \\\n",
       "0  236  488   16  221  382   97 -4.472136  0.107472  0  132  ...  13.340874   \n",
       "1  386  206  357  232    1  198  7.810250  0.763713  1  143  ...  12.484882   \n",
       "2  429   49  481  111  111  146  8.602325  0.651162  1  430  ...  14.030257   \n",
       "3  414  350  481  370  208  158  8.306624  0.424645  1  340  ...   2.789577   \n",
       "4  318  359   20  218  317  301  8.124038  0.767304  1  212  ...   1.886560   \n",
       "\n",
       "         45         46         47         48         49         50         51  \\\n",
       "0  0.870542   1.962937   7.466666  11.547794   8.822916   9.046424   7.895535   \n",
       "1  7.168680   2.885415  12.413973  10.260494  10.091351   9.270888   3.173994   \n",
       "2  0.394970   8.160625  12.592059   8.937577   2.265191  11.255721  12.794841   \n",
       "3  6.416708  10.549814  11.456437   6.468099   2.519049   0.258284   9.317696   \n",
       "4  1.919999   2.268203   0.149421   4.105907  10.416291   6.816217   8.586960   \n",
       "\n",
       "          52     target  \n",
       "0  11.010677  20.107472  \n",
       "1  13.921871  61.763713  \n",
       "2  12.080951  74.651162  \n",
       "3   5.383098  69.424645  \n",
       "4   4.512419  66.767304  \n",
       "\n",
       "[5 rows x 54 columns]"
      ]
     },
     "execution_count": 17,
     "metadata": {},
     "output_type": "execute_result"
    }
   ],
   "source": [
    "train.head()"
   ]
  },
  {
   "cell_type": "code",
   "execution_count": null,
   "id": "42f54021",
   "metadata": {},
   "outputs": [],
   "source": [
    "#Перевіряю датасет на нульові елементи"
   ]
  },
  {
   "cell_type": "code",
   "execution_count": 16,
   "id": "3110aa2f",
   "metadata": {},
   "outputs": [
    {
     "data": {
      "text/plain": [
       "0     0\n",
       "1     0\n",
       "2     0\n",
       "3     0\n",
       "4     0\n",
       "5     0\n",
       "6     0\n",
       "7     0\n",
       "8     0\n",
       "9     0\n",
       "10    0\n",
       "11    0\n",
       "12    0\n",
       "13    0\n",
       "14    0\n",
       "15    0\n",
       "16    0\n",
       "17    0\n",
       "18    0\n",
       "19    0\n",
       "20    0\n",
       "21    0\n",
       "22    0\n",
       "23    0\n",
       "24    0\n",
       "25    0\n",
       "26    0\n",
       "27    0\n",
       "28    0\n",
       "29    0\n",
       "30    0\n",
       "31    0\n",
       "32    0\n",
       "33    0\n",
       "34    0\n",
       "35    0\n",
       "36    0\n",
       "37    0\n",
       "38    0\n",
       "39    0\n",
       "40    0\n",
       "41    0\n",
       "42    0\n",
       "43    0\n",
       "44    0\n",
       "45    0\n",
       "46    0\n",
       "47    0\n",
       "48    0\n",
       "49    0\n",
       "50    0\n",
       "51    0\n",
       "52    0\n",
       "dtype: int64"
      ]
     },
     "execution_count": 16,
     "metadata": {},
     "output_type": "execute_result"
    }
   ],
   "source": [
    "to_train.isnull().sum()"
   ]
  },
  {
   "cell_type": "code",
   "execution_count": null,
   "id": "cf8baaca",
   "metadata": {},
   "outputs": [],
   "source": [
    "#Розділяю датасет на тренувальний та тестовий"
   ]
  },
  {
   "cell_type": "code",
   "execution_count": 5,
   "id": "1999aec3",
   "metadata": {},
   "outputs": [],
   "source": [
    "to_train = train.drop(['target'], axis = 1)"
   ]
  },
  {
   "cell_type": "code",
   "execution_count": 6,
   "id": "6e6fcf09",
   "metadata": {},
   "outputs": [],
   "source": [
    "to_test = train['target']"
   ]
  },
  {
   "cell_type": "code",
   "execution_count": null,
   "id": "9db8a133",
   "metadata": {},
   "outputs": [],
   "source": [
    "#Перевіряю данні на наявність вибросів"
   ]
  },
  {
   "cell_type": "code",
   "execution_count": 10,
   "id": "ce89accc",
   "metadata": {},
   "outputs": [
    {
     "data": {
      "text/plain": [
       "<AxesSubplot:>"
      ]
     },
     "execution_count": 10,
     "metadata": {},
     "output_type": "execute_result"
    },
    {
     "data": {
      "image/png": "[encoded data removed]",
      "text/plain": [
       "<Figure size 720x576 with 1 Axes>"
      ]
     },
     "metadata": {
      "needs_background": "light"
     },
     "output_type": "display_data"
    }
   ],
   "source": [
    "to_train.plot.box(figsize=(10,8))"
   ]
  },
  {
   "cell_type": "code",
   "execution_count": 19,
   "id": "2229bd8e",
   "metadata": {},
   "outputs": [],
   "source": [
    "#Выброси выдсутні можна побачити що усі данні можна умовно поділити на три групи (1-5,9-12), (7-8), (13-52)\n",
    "#Також виділяєтся 6 колонка\n",
    "#Намалює гістограми для кожної з груп"
   ]
  },
  {
   "cell_type": "code",
   "execution_count": 20,
   "id": "0aa47a48",
   "metadata": {},
   "outputs": [
    {
     "data": {
      "text/plain": [
       "<AxesSubplot:>"
      ]
     },
     "execution_count": 20,
     "metadata": {},
     "output_type": "execute_result"
    },
    {
     "data": {
      "image/png": "[encoded data removed]",
      "text/plain": [
       "<Figure size 432x288 with 1 Axes>"
      ]
     },
     "metadata": {
      "needs_background": "light"
     },
     "output_type": "display_data"
    }
   ],
   "source": [
    "to_train['1'].hist()"
   ]
  },
  {
   "cell_type": "code",
   "execution_count": 21,
   "id": "b8113b33",
   "metadata": {},
   "outputs": [
    {
     "data": {
      "text/plain": [
       "<AxesSubplot:>"
      ]
     },
     "execution_count": 21,
     "metadata": {},
     "output_type": "execute_result"
    },
    {
     "data": {
      "image/png": "[encoded data removed]",
      "text/plain": [
       "<Figure size 432x288 with 1 Axes>"
      ]
     },
     "metadata": {
      "needs_background": "light"
     },
     "output_type": "display_data"
    }
   ],
   "source": [
    "to_train['6'].hist()"
   ]
  },
  {
   "cell_type": "code",
   "execution_count": 22,
   "id": "2811df9e",
   "metadata": {},
   "outputs": [
    {
     "data": {
      "text/plain": [
       "<AxesSubplot:>"
      ]
     },
     "execution_count": 22,
     "metadata": {},
     "output_type": "execute_result"
    },
    {
     "data": {
      "image/png": "[encoded data removed]",
      "text/plain": [
       "<Figure size 432x288 with 1 Axes>"
      ]
     },
     "metadata": {
      "needs_background": "light"
     },
     "output_type": "display_data"
    }
   ],
   "source": [
    "to_train['7'].hist()"
   ]
  },
  {
   "cell_type": "code",
   "execution_count": 23,
   "id": "bfd8eb39",
   "metadata": {},
   "outputs": [
    {
     "data": {
      "text/plain": [
       "<AxesSubplot:>"
      ]
     },
     "execution_count": 23,
     "metadata": {},
     "output_type": "execute_result"
    },
    {
     "data": {
      "image/png": "[encoded data removed]",
      "text/plain": [
       "<Figure size 432x288 with 1 Axes>"
      ]
     },
     "metadata": {
      "needs_background": "light"
     },
     "output_type": "display_data"
    }
   ],
   "source": [
    "to_train['13'].hist()"
   ]
  },
  {
   "cell_type": "code",
   "execution_count": 24,
   "id": "88b0f796",
   "metadata": {},
   "outputs": [],
   "source": [
    "#Усі розподілення є рівномірними, окрім 6\n",
    "#Перевірю зв'язок кожної з груп з цільовий параметром"
   ]
  },
  {
   "cell_type": "code",
   "execution_count": 27,
   "id": "04c94913",
   "metadata": {},
   "outputs": [
    {
     "data": {
      "text/plain": [
       "<matplotlib.collections.PathCollection at 0x23e000f98a0>"
      ]
     },
     "execution_count": 27,
     "metadata": {},
     "output_type": "execute_result"
    },
    {
     "data": {
      "image/png": "[encoded data removed]",
      "text/plain": [
       "<Figure size 432x288 with 1 Axes>"
      ]
     },
     "metadata": {
      "needs_background": "light"
     },
     "output_type": "display_data"
    }
   ],
   "source": [
    "plt.scatter(x= train['1'], y=train['target'])"
   ]
  },
  {
   "cell_type": "code",
   "execution_count": 30,
   "id": "497fc013",
   "metadata": {},
   "outputs": [
    {
     "data": {
      "text/plain": [
       "<matplotlib.collections.PathCollection at 0x23e003f3070>"
      ]
     },
     "execution_count": 30,
     "metadata": {},
     "output_type": "execute_result"
    },
    {
     "data": {
      "image/png": "[encoded data removed]",
      "text/plain": [
       "<Figure size 432x288 with 1 Axes>"
      ]
     },
     "metadata": {
      "needs_background": "light"
     },
     "output_type": "display_data"
    }
   ],
   "source": [
    "plt.scatter(x= train['6'], y=train['target'])"
   ]
  },
  {
   "cell_type": "code",
   "execution_count": 28,
   "id": "30d66730",
   "metadata": {},
   "outputs": [
    {
     "data": {
      "text/plain": [
       "<matplotlib.collections.PathCollection at 0x23e00416860>"
      ]
     },
     "execution_count": 28,
     "metadata": {},
     "output_type": "execute_result"
    },
    {
     "data": {
      "image/png": "[encoded data removed]",
      "text/plain": [
       "<Figure size 432x288 with 1 Axes>"
      ]
     },
     "metadata": {
      "needs_background": "light"
     },
     "output_type": "display_data"
    }
   ],
   "source": [
    "plt.scatter(x= train['7'], y=train['target'])"
   ]
  },
  {
   "cell_type": "code",
   "execution_count": 29,
   "id": "cb6f5715",
   "metadata": {},
   "outputs": [
    {
     "data": {
      "text/plain": [
       "<matplotlib.collections.PathCollection at 0x23e007fbb80>"
      ]
     },
     "execution_count": 29,
     "metadata": {},
     "output_type": "execute_result"
    },
    {
     "data": {
      "image/png": "[encoded data removed]",
      "text/plain": [
       "<Figure size 432x288 with 1 Axes>"
      ]
     },
     "metadata": {
      "needs_background": "light"
     },
     "output_type": "display_data"
    }
   ],
   "source": [
    "plt.scatter(x= train['13'], y=train['target'])"
   ]
  },
  {
   "cell_type": "code",
   "execution_count": null,
   "id": "81abe9c4",
   "metadata": {},
   "outputs": [],
   "source": [
    "# Бічимо що цільовий параметр більш за все пов'язаний з 6 колонкою даних"
   ]
  }
 ],
 "metadata": {
  "kernelspec": {
   "display_name": "Python 3 (ipykernel)",
   "language": "python",
   "name": "python3"
  },
  "language_info": {
   "codemirror_mode": {
    "name": "ipython",
    "version": 3
   },
   "file_extension": ".py",
   "mimetype": "text/x-python",
   "name": "python",
   "nbconvert_exporter": "python",
   "pygments_lexer": "ipython3",
   "version": "3.10.2"
  }
 },
 "nbformat": 4,
 "nbformat_minor": 5
}
